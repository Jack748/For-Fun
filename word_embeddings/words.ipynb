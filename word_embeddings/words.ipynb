{
 "cells": [
  {
   "cell_type": "code",
   "execution_count": null,
   "metadata": {},
   "outputs": [],
   "source": [
    "import spacy\n",
    "\n",
    "# Load the medium model with vectors\n",
    "nlp = spacy.load('en_core_web_md')"
   ]
  },
  {
   "cell_type": "code",
   "execution_count": null,
   "metadata": {},
   "outputs": [],
   "source": [
    "# Example text\n",
    "text = \"Apple and orange are fruits. London and Paris are cities.\"\n",
    "doc = nlp(text)\n",
    "doc"
   ]
  },
  {
   "cell_type": "code",
   "execution_count": null,
   "metadata": {},
   "outputs": [],
   "source": [
    "for token in doc:\n",
    "    print(token.text, token.has_vector, token.vector_norm, token.vector)"
   ]
  },
  {
   "cell_type": "code",
   "execution_count": null,
   "metadata": {},
   "outputs": [],
   "source": [
    "token1 = nlp(\"barak obama\")\n",
    "token2 = nlp(\"king\")\n",
    "print(\"Similarity:\", token1.similarity(token2))"
   ]
  },
  {
   "cell_type": "code",
   "execution_count": null,
   "metadata": {},
   "outputs": [],
   "source": [
    "fruits = [\"apple\", \"orange\", \"banana\", \"grape\", \"strawberry\"]\n",
    "for fruit1 in fruits:\n",
    "    for fruit2 in fruits:\n",
    "        if fruit1 != fruit2:\n",
    "            print(f\"{fruit1} - {fruit2}: {nlp(fruit1).similarity(nlp(fruit2))}\")"
   ]
  },
  {
   "cell_type": "code",
   "execution_count": null,
   "metadata": {},
   "outputs": [],
   "source": [
    "from sklearn.decomposition import PCA\n",
    "import matplotlib.pyplot as plt\n",
    "\n",
    "# Get vectors and labels\n",
    "vectors = [nlp(text).vector for text in fruits]\n",
    "pca = PCA(n_components=3)\n",
    "vectors_transformed = pca.fit_transform(vectors)\n",
    "\n",
    "# Plotting\n",
    "plt.scatter(vectors_transformed[:, 0], vectors_transformed[:, 1], c=vectors_transformed[:, 2])\n",
    "for i, word in enumerate(fruits):\n",
    "    plt.annotate(word, (vectors_transformed[i, 0], vectors_transformed[i, 1]))\n",
    "plt.show()\n",
    "\n",
    "# Now let's try with some cities\n",
    "cities = [\"London\", \"Paris\", \"Berlin\", \"Madrid\", \"Rome\"]\n",
    "vectors = [nlp(text).vector for text in cities]\n",
    "pca = PCA(n_components=2)\n",
    "vectors_transformed = pca.fit_transform(vectors)\n",
    "\n",
    "plt.scatter(vectors_transformed[:, 0], vectors_transformed[:, 1])\n",
    "for i, word in enumerate(cities):\n",
    "    plt.annotate(word, (vectors_transformed[i, 0], vectors_transformed[i, 1]))\n",
    "plt.show()\n",
    "\n"
   ]
  },
  {
   "cell_type": "code",
   "execution_count": null,
   "metadata": {},
   "outputs": [],
   "source": [
    "professions = [\"doctor\", \"engineer\", \"artist\", \"teacher\", \"chef\", \"farmer\", \"software\", \"scientist\", \"lawyer\", \"nurse\", \"police officer\", \"firefighter\", \"soldier\"]\n",
    "dog_breeds = [\"beagle\", \"labrador\", \"bulldog\", \"poodle\", \"husky\", \"rottweiler\", \"boxer\", \"doberman\", \"dalmatian\", \"chihuahua\", \"golden retriever\", \"pug\", \"Pit Bull\"]\n",
    "\n",
    "def find_closest_breed(profession, breeds):\n",
    "    profession_token = nlp(profession)\n",
    "    max_similarity = -1\n",
    "    closest_breed = None\n",
    "    for breed in breeds:\n",
    "        breed_token = nlp(breed)\n",
    "        similarity = profession_token.similarity(breed_token)\n",
    "        if similarity > max_similarity:\n",
    "            max_similarity = similarity\n",
    "            closest_breed = breed\n",
    "    return closest_breed, max_similarity\n",
    "\n",
    "for profession in professions:\n",
    "    closest_breed, max_similarity = find_closest_breed(profession, dog_breeds)\n",
    "    print(f\"The closest dog breed to {profession} is {closest_breed} and the similarity is {max_similarity}.\")\n",
    "\n",
    "\n"
   ]
  },
  {
   "cell_type": "code",
   "execution_count": null,
   "metadata": {},
   "outputs": [],
   "source": [
    "# now names and professions\n",
    "names = [\"Tjarks\", \"Mossio\", \"Marlon\", \"Matsumoto\"]\n",
    "professions = [\"doctor\", \"engineer\", \"artist\", \"teacher\", \"chef\", \"farmer\", \"software developer\", \"scientist\", \"lawyer\", \"nurse\", \"police officer\", \"firefighter\", \"soldier\", \"pilot\", \"singer\", \"actor\", \"writer\", \"dancer\", \"architect\", \"designer\", \"photographer\", \"journalist\", \"athlete\", \"musician\", \"veterinarian\", \"psychologist\", \"accountant\", \"economist\", \"entrepreneur\", \"manager\", \"consultant\", \"plumber\", \"electrician\", \"mechanic\",\"gardener\", \"hairdresser\", \"tailor\", \"librarian\", \"receptionist\", \"secretary\", \"waiter\", \"bartender\", \"cashier\", \"salesperson\", \"policeman\", \"fireman\", \"soldier\", \"pilot\", \"singer\", \"actor\", \"writer\", \"dancer\", \"architect\", \"designer\", \"photographer\", \"journalist\", \"athlete\", \"musician\", \"veterinarian\", \"psychologist\", \"accountant\", \"economist\", \"entrepreneur\", \"manager\", \"consultant\", \"plumber\", \"electrician\", \"mechanic\", \"gardener\", \"hairdresser\", \"tailor\", \"librarian\", \"receptionist\", \"secretary\", \"waiter\", \"bartender\", \"cashier\", \"salesperson\", \"policeman\", \"fireman\", \"soldier\"]\n",
    "for name in names:\n",
    "    name_token = nlp(name)\n",
    "    max_similarity = -1\n",
    "    closest_profession = None\n",
    "    for profession in professions:\n",
    "        profession_token = nlp(profession)\n",
    "        similarity = name_token.similarity(profession_token)\n",
    "        if similarity > max_similarity:\n",
    "            max_similarity = similarity\n",
    "            closest_profession = profession\n",
    "    print(f\"The closest profession to {name} is {closest_profession}.\")"
   ]
  },
  {
   "cell_type": "code",
   "execution_count": null,
   "metadata": {},
   "outputs": [],
   "source": [
    "# now names and countries\n",
    "names = [\"Laura\", \"Giacomo\", \"Riku\", \"Tjarks\", \"Mossio\", \"Matsumoto\", ]\n",
    "countries = [\"Germany\", \"Italy\", \"Brazil\", \"Japan\", \"France\", \"Spain\", \"USA\", \"Russia\", \"China\", \"India\", \"UK\", \"Canada\", \"Australia\", \"Mexico\", \"South Africa\", \"Argentina\", \"Nigeria\", \"Germany\", \"Italy\", \"Brazil\", \"Japan\", \"France\", \"Spain\", \"USA\", \"Russia\", \"China\", \"India\", \"UK\", \"Canada\", \"Australia\", \"Mexico\", \"South Africa\", \"Argentina\", \"Nigeria\"]\n",
    "for name in names:\n",
    "    name_token = nlp(name)\n",
    "    max_similarity = -1\n",
    "    closest_country = None\n",
    "    for country in countries:\n",
    "        country_token = nlp(country)\n",
    "        similarity = name_token.similarity(country_token)\n",
    "        if similarity > max_similarity:\n",
    "            max_similarity = similarity\n",
    "            closest_country = country\n",
    "    print(f\"The closest country to {name} is {closest_country} and similarity is {max_similarity}.\")"
   ]
  },
  {
   "cell_type": "code",
   "execution_count": null,
   "metadata": {},
   "outputs": [],
   "source": [
    "# now let's try with similarities beetwen countries and food ordered by similarity\n",
    "countries = [\"France\", \"Spain\", \"Germany\", \"Italy\", \"Japan\", \"India\", \"Mexico\", \"USA\", \"UK\", \"Australia\", \"Brazil\", \"Canada\", \"China\", \"Russia\", \"South Africa\"]\n",
    "food = [\"sushi\", \"pizza\", \"curry\", \"pasta\", \"sausages\"]\n",
    "\n",
    "def find_closest_food(country, food):\n",
    "    country_token = nlp(country)\n",
    "    max_similarity = -1\n",
    "    closest_food = None\n",
    "    for food_item in food:\n",
    "        food_token = nlp(food_item)\n",
    "        similarity = country_token.similarity(food_token)\n",
    "        if similarity > max_similarity:\n",
    "            max_similarity = similarity\n",
    "            closest_food = food_item\n",
    "    return closest_food\n",
    "\n",
    "for country in countries:\n",
    "    closest_food = find_closest_food(country, food)\n",
    "    print(f\"The closest food to {country} is {closest_food} and the similarity is {nlp(country).similarity(nlp(closest_food))}.\")"
   ]
  },
  {
   "cell_type": "code",
   "execution_count": null,
   "metadata": {},
   "outputs": [],
   "source": [
    "\n",
    "vectors = [nlp(text).vector for text in professions + dog_breeds]\n",
    "pca = PCA(n_components=2)\n",
    "vectors_transformed = pca.fit_transform(vectors)\n",
    "plt.scatter(vectors_transformed[:, 0], vectors_transformed[:, 1])\n",
    "for i, word in enumerate(professions + dog_breeds):\n",
    "    plt.annotate(word, (vectors_transformed[i, 0], vectors_transformed[i, 1]))\n",
    "plt.show()"
   ]
  },
  {
   "cell_type": "code",
   "execution_count": null,
   "metadata": {},
   "outputs": [],
   "source": [
    "#now let's plot the professions and dog breeds in a 3D space with labels\n",
    "vectors = [nlp(text).vector for text in professions + dog_breeds]\n",
    "pca = PCA(n_components=3)\n",
    "vectors_transformed = pca.fit_transform(vectors)\n",
    "fig = plt.figure()\n",
    "ax = fig.add_subplot(111, projection='3d')\n",
    "ax.scatter(vectors_transformed[:, 0], vectors_transformed[:, 1], vectors_transformed[:, 2])\n",
    "for i, word in enumerate(professions + dog_breeds):\n",
    "    ax.text(vectors_transformed[i, 0], vectors_transformed[i, 1], vectors_transformed[i, 2], word)"
   ]
  },
  {
   "cell_type": "code",
   "execution_count": null,
   "metadata": {},
   "outputs": [],
   "source": [
    "#now let's plot the professions and dog breeds in a 3D space with labels\n",
    "vectors = [nlp(text).vector for text in cities]\n",
    "pca = PCA(n_components=3)\n",
    "vectors_transformed = pca.fit_transform(vectors)\n",
    "fig = plt.figure()\n",
    "ax = fig.add_subplot(111, projection='3d')\n",
    "ax.scatter(vectors_transformed[:, 0], vectors_transformed[:, 1], vectors_transformed[:, 2])\n",
    "for i, word in enumerate(cities):\n",
    "    ax.text(vectors_transformed[i, 0], vectors_transformed[i, 1], vectors_transformed[i, 2], word)"
   ]
  },
  {
   "cell_type": "code",
   "execution_count": null,
   "metadata": {},
   "outputs": [],
   "source": [
    "# now similarities between cities ordered by similarity\n",
    "similarities = []\n",
    "for city1 in cities:\n",
    "    for city2 in cities:\n",
    "        if city1 != city2:\n",
    "            similarity = nlp(city1).similarity(nlp(city2))\n",
    "            similarities.append((city1, city2, similarity))\n",
    "\n",
    "similarities.sort(key=lambda x: x[2], reverse=True)\n",
    "for city1, city2, similarity in similarities:\n",
    "    print(f\"{city1} - {city2}: {similarity}\")"
   ]
  },
  {
   "cell_type": "code",
   "execution_count": null,
   "metadata": {},
   "outputs": [],
   "source": [
    "# now similarities between professions ordered by similarity\n",
    "similarities = []\n",
    "for profession1 in professions:\n",
    "    for profession2 in professions:\n",
    "        if profession1 != profession2:\n",
    "            similarity = nlp(profession1).similarity(nlp(profession2))\n",
    "            similarities.append((profession1, profession2, similarity))\n",
    "\n",
    "similarities.sort(key=lambda x: x[2], reverse=True)\n",
    "for profession1, profession2, similarity in similarities:\n",
    "    print(f\"{profession1} - {profession2}: {similarity}\")"
   ]
  },
  {
   "cell_type": "code",
   "execution_count": null,
   "metadata": {},
   "outputs": [],
   "source": [
    "# now similarities between countries ordered by similarity\n",
    "countries = [\"France\", \"Germany\", \"Spain\", \"Italy\", \"United Kingdom\", \"United States\", \"Canada\", \"Australia\", \"China\", \"Japan\", \"Brazil\", \"India\", \"Russia\", \"South Africa\", \"Switzerland\", \"Sweden\", \"Norway\", \"Finland\", \"Denmark\", \"Netherlands\", \"Belgium\", \"Austria\", \"Portugal\", \"Greece\", \"Turkey\", \"Egypt\",]\n",
    "\n",
    "# now let's see which countries are the most similar to a given country\n",
    "country = \"Egypt\"\n",
    "similarities = []\n",
    "for other_country in countries:\n",
    "    if other_country != country:\n",
    "        similarity = nlp(country).similarity(nlp(other_country))\n",
    "        similarities.append((country, other_country, similarity))\n",
    "\n",
    "similarities.sort(key=lambda x: x[2], reverse=True)\n",
    "for country1, country2, similarity in similarities:\n",
    "    print(f\"{country1} - {country2}: {similarity}\")"
   ]
  },
  {
   "cell_type": "code",
   "execution_count": null,
   "metadata": {},
   "outputs": [],
   "source": [
    "# now the similarity between italian cities\n",
    "cities = [\"Rome\", \"Milan\", \"Naples\", \"Turin\", \"Palermo\", \"Genoa\", \"Bologna\", \"Florence\", \"Bari\", \"Catania\", \"Venice\", \"Bra\"]\n",
    "\n",
    "similarities = []\n",
    "for city1 in cities:\n",
    "    for city2 in cities:\n",
    "        if city1 != city2:\n",
    "            similarity = nlp(city1).similarity(nlp(city2))\n",
    "            similarities.append((city1, city2, similarity))\n",
    "\n",
    "similarities.sort(key=lambda x: x[2], reverse=True)\n",
    "for city1, city2, similarity in similarities:\n",
    "    print(f\"{city1} - {city2}: {similarity}\")\n"
   ]
  },
  {
   "cell_type": "code",
   "execution_count": null,
   "metadata": {},
   "outputs": [],
   "source": [
    "# now colors and professions\n",
    "colors = [\"red\", \"blue\", \"green\", \"yellow\", \"orange\", \"purple\", \"pink\", \"brown\", \"black\", \"white\", \"gray\"]\n",
    "for profession in professions:\n",
    "    profession_token = nlp(profession)\n",
    "    max_similarity = -1\n",
    "    closest_color = None\n",
    "    for color in colors:\n",
    "        color_token = nlp(color)\n",
    "        similarity = profession_token.similarity(color_token)\n",
    "        if similarity > max_similarity:\n",
    "            max_similarity = similarity\n",
    "            closest_color = color\n",
    "    print(f\"The closest color to {profession} is {closest_color}.\")"
   ]
  },
  {
   "cell_type": "code",
   "execution_count": null,
   "metadata": {},
   "outputs": [],
   "source": [
    "# now colors and countries\n",
    "print(len(countries))\n",
    "print(countries)\n",
    "for country in countries:\n",
    "    country_token = nlp(country)\n",
    "    max_similarity = -1\n",
    "    closest_color = None\n",
    "    for color in colors:\n",
    "        color_token = nlp(color)\n",
    "        similarity = country_token.similarity(color_token)\n",
    "        if similarity > max_similarity:\n",
    "            max_similarity = similarity\n",
    "            closest_color = color\n",
    "    print(f\"The closest color to {country} is {closest_color}.\")"
   ]
  },
  {
   "cell_type": "code",
   "execution_count": 94,
   "metadata": {},
   "outputs": [
    {
     "name": "stdout",
     "output_type": "stream",
     "text": [
      "The closest color to London is black.\n",
      "The closest color to Paris is yellow.\n",
      "The closest color to Berlin is black.\n",
      "The closest color to Madrid is yellow.\n",
      "The closest color to Rome is white.\n"
     ]
    }
   ],
   "source": [
    "# now colors and cities\n",
    "\n",
    "for city in cities:\n",
    "    city_token = nlp(city)\n",
    "    max_similarity = -1\n",
    "    closest_color = None\n",
    "    for color in colors:\n",
    "        color_token = nlp(color)\n",
    "        similarity = city_token.similarity(color_token)\n",
    "        if similarity > max_similarity:\n",
    "            max_similarity = similarity\n",
    "            closest_color = color\n",
    "    print(f\"The closest color to {city} is {closest_color}.\")"
   ]
  }
 ],
 "metadata": {
  "kernelspec": {
   "display_name": "notes",
   "language": "python",
   "name": "python3"
  },
  "language_info": {
   "codemirror_mode": {
    "name": "ipython",
    "version": 3
   },
   "file_extension": ".py",
   "mimetype": "text/x-python",
   "name": "python",
   "nbconvert_exporter": "python",
   "pygments_lexer": "ipython3",
   "version": "3.11.4"
  }
 },
 "nbformat": 4,
 "nbformat_minor": 2
}
